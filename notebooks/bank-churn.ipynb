{
 "cells": [
  {
   "cell_type": "code",
   "execution_count": null,
   "metadata": {},
   "outputs": [],
   "source": [
    "import sys\n",
    "import os\n",
    "import pandas as pd\n",
    "import numpy as np\n",
    "import matplotlib.pyplot as plt\n",
    "import seaborn as sns\n",
    "from sklearn.preprocessing import StandardScaler, MinMaxScaler, RobustScaler\n",
    "from sklearn.model_selection import StratifiedShuffleSplit\n",
    "import re\n",
    "import pandas as pd\n",
    "import datetime as dt\n",
    "# Get the parent directory of the notebook's current path\n",
    "notebook_path = os.path.abspath('')\n",
    "\n",
    "# Navigate to the project's root directory and add the 'scripts' directory\n",
    "project_root = os.path.dirname(notebook_path)\n",
    "scripts_path = os.path.join(project_root, 'scripts')\n",
    "if scripts_path not in sys.path:\n",
    "    sys.path.append(scripts_path)\n",
    "    \n",
    "from helper import *\n",
    "\n"
   ]
  }
 ],
 "metadata": {
  "language_info": {
   "name": "python"
  }
 },
 "nbformat": 4,
 "nbformat_minor": 2
}
